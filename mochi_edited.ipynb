{
 "cells": [
  {
   "cell_type": "code",
   "execution_count": null,
   "id": "0152803f-b443-4bb3-9d97-bc27f7f1bb7d",
   "metadata": {},
   "outputs": [],
   "source": [
    "!pip uninstall torch -y\n",
    "\n",
    "!apt -y update -qq\n",
    "!apt -y install -qq aria2\n",
    "\n",
    "!git clone https://github.com/comfyanonymous/ComfyUI\n",
    "\n",
    "!pip uninstall torch torchvision torchaudio -y\n",
    "!pip install -r /workspace/ComfyUI/requirements.txt\n",
    "\n",
    "%cd ComfyUI\n",
    "\n",
    "%cd custom_nodes\n",
    "\n",
    "!git clone https://github.com/kijai/ComfyUI-MochiWrapper\n",
    "!git clone https://github.com/crystian/ComfyUI-Crystools\n",
    "!git clone https://github.com/Kosinkadink/ComfyUI-VideoHelperSuite\n",
    "\n",
    "%cd ComfyUI-MochiWrapper\n",
    "\n",
    "!pip install -r requirements.txt\n",
    "\n",
    "!pip install sageattention\n",
    "\n",
    "# %cd /workspace/ComfyUI/models/clip\n",
    "!aria2c --console-log-level=error -c -x 16 -s 16 -k 1M  https://huggingface.co/comfyanonymous/flux_text_encoders/resolve/main/t5xxl_fp8_e4m3fn_scaled.safetensors -d /workspace/ComfyUI/models/clip -o t5xxl.safetensors\n",
    "# %cd /workspace/ComfyUI/models/unet\n",
    "!aria2c --console-log-level=error -c -x 16 -s 16 -k 1M  https://huggingface.co/Kijai/Mochi_preview_comfy/resolve/main/mochi_preview_dit_bf16.safetensors -d /workspace/ComfyUI/models/unet -o transformers.safetensors\n",
    "# %cd /workspace/ComfyUI/models/vae\n",
    "!aria2c --console-log-level=error -c -x 16 -s 16 -k 1M  https://huggingface.co/Kijai/Mochi_preview_comfy/resolve/main/mochi_preview_vae_decoder_bf16.safetensors -d /workspace/ComfyUI/models/vae -o vae.safetensors\n",
    "\n",
    "%cd /workspace/ComfyUI/custom_nodes\n",
    "!git clone https://github.com/ltdrdata/ComfyUI-Manager\n",
    "\n",
    "!pip install -r /workspace/ComfyUI/custom_nodes/ComfyUI-Crystools/requirements.txt\n",
    "!pip install -r /workspace/ComfyUI/custom_nodes/ComfyUI-VideoHelperSuite/requirements.txt\n",
    "\n",
    "!apt install ffmpeg -y\n",
    "\n",
    "%cd /workspace/ComfyUI\n",
    "!python main.py --listen 0.0.0.0\n",
    "\n",
    "\n",
    "\n"
   ]
  }
 ],
 "metadata": {
  "kernelspec": {
   "display_name": "Python 3 (ipykernel)",
   "language": "python",
   "name": "python3"
  },
  "language_info": {
   "codemirror_mode": {
    "name": "ipython",
    "version": 3
   },
   "file_extension": ".py",
   "mimetype": "text/x-python",
   "name": "python",
   "nbconvert_exporter": "python",
   "pygments_lexer": "ipython3",
   "version": "3.11.10"
  }
 },
 "nbformat": 4,
 "nbformat_minor": 5
}
